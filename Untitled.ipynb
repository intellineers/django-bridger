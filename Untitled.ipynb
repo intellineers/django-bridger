{
 "cells": [
  {
   "cell_type": "code",
   "execution_count": 3,
   "id": "stone-vinyl",
   "metadata": {},
   "outputs": [
    {
     "data": {
      "text/plain": [
       "<QuerySet [<User: admin>]>"
      ]
     },
     "execution_count": 3,
     "metadata": {},
     "output_type": "execute_result"
    }
   ],
   "source": [
    "DJANGO_ALLOW_ASYNC_UNSAFE = True\n",
    "import os\n",
    "os.environ[\"DJANGO_ALLOW_ASYNC_UNSAFE\"] = \"true\"\n"
   ]
  },
  {
   "cell_type": "code",
   "execution_count": 4,
   "id": "lonely-somewhere",
   "metadata": {},
   "outputs": [],
   "source": [
    "user = User.objects.first()\n",
    "user.email = \"decoster.kevin@outlook.com\"\n",
    "user.save()"
   ]
  },
  {
   "cell_type": "code",
   "execution_count": 7,
   "id": "widespread-breakdown",
   "metadata": {},
   "outputs": [
    {
     "data": {
      "text/plain": [
       "<Notification: admin Your schedule for today>"
      ]
     },
     "execution_count": 7,
     "metadata": {},
     "output_type": "execute_result"
    }
   ],
   "source": [
    "Notification.objects.create(\n",
    "    title=f'Your schedule for today',\n",
    "    message=\"adasdasdasddas\",\n",
    "    recipient=user,\n",
    "    send_type = \"system_and_mail\"           \n",
    ")  "
   ]
  },
  {
   "cell_type": "code",
   "execution_count": null,
   "id": "precious-seeker",
   "metadata": {},
   "outputs": [],
   "source": []
  }
 ],
 "metadata": {
  "kernelspec": {
   "display_name": "Django Shell-Plus",
   "language": "python",
   "name": "django_extensions"
  },
  "language_info": {
   "codemirror_mode": {
    "name": "ipython",
    "version": 3
   },
   "file_extension": ".py",
   "mimetype": "text/x-python",
   "name": "python",
   "nbconvert_exporter": "python",
   "pygments_lexer": "ipython3",
   "version": "3.8.5"
  }
 },
 "nbformat": 4,
 "nbformat_minor": 5
}
