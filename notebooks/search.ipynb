{
 "cells": [
  {
   "cell_type": "code",
   "execution_count": 2,
   "metadata": {},
   "outputs": [
    {
     "name": "stdout",
     "output_type": "stream",
     "text": [
      "oJxRfGSezKHHgKCm (30) => oJxRfGSezKHHgKCm Related Model Test\n",
      "YqXkUHBDeiKHhFKP (63) => YqXkUHBDeiKHhFKP Related Model Test\n",
      "DHhhRXg (70) => DHhhRXg Related Model Test\n",
      "IghHbnVLeqauVLYbVB (92) => IghHbnVLeqauVLYbVB Related Model Test\n",
      "lhhdJFzjfiX (107) => lhhdJFzjfiX Related Model Test\n",
      "LghhiQxRDNnsKBHoEaUp (169) => LghhiQxRDNnsKBHoEaUp Related Model Test\n",
      "VZUVzMASHhhpSyEQA (220) => VZUVzMASHhhpSyEQA Related Model Test\n"
     ]
    }
   ],
   "source": [
    "from rest_framework.reverse import reverse\n",
    "from bridger.search import search\n",
    "\n",
    "results = search(\"HH related\")\n",
    "for result in results:\n",
    "    print(f'{result[\"_repr\"]} ({result[\"id\"]}) => {result[\"__search\"]}')"
   ]
  }
 ],
 "metadata": {
  "kernelspec": {
   "display_name": "Django Shell-Plus",
   "language": "python",
   "name": "django_extensions"
  },
  "language_info": {
   "codemirror_mode": {
    "name": "ipython",
    "version": 3
   },
   "file_extension": ".py",
   "mimetype": "text/x-python",
   "name": "python",
   "nbconvert_exporter": "python",
   "pygments_lexer": "ipython3",
   "version": "3.6.7"
  }
 },
 "nbformat": 4,
 "nbformat_minor": 4
}
