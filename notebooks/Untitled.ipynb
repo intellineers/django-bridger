{
 "cells": [
  {
   "cell_type": "code",
   "execution_count": 10,
   "metadata": {},
   "outputs": [
    {
     "name": "stdout",
     "output_type": "stream",
     "text": [
      "<class 'tests.models.HistoricalRelatedModelTest'>\n",
      "<class 'tests.models.HistoricalRelatedModelTest'>\n",
      "<class 'tests.models.HistoricalRelatedModelTest'>\n",
      "<class 'tests.models.HistoricalRelatedModelTest'>\n",
      "<class 'tests.models.HistoricalRelatedModelTest'>\n",
      "<class 'tests.models.HistoricalRelatedModelTest'>\n",
      "<class 'tests.models.HistoricalRelatedModelTest'>\n",
      "<class 'tests.models.HistoricalRelatedModelTest'>\n",
      "<class 'tests.models.HistoricalRelatedModelTest'>\n"
     ]
    }
   ],
   "source": [
    "from tests.models import RelatedModelTest\n",
    "\n",
    "rmt = RelatedModelTest.objects.get(id=259)\n",
    "\n",
    "for _rmt in rmt.history.all():\n",
    "    print(type(_rmt))"
   ]
  }
 ],
 "metadata": {
  "kernelspec": {
   "display_name": "Django Shell-Plus",
   "language": "python",
   "name": "django_extensions"
  },
  "language_info": {
   "codemirror_mode": {
    "name": "ipython",
    "version": 3
   },
   "file_extension": ".py",
   "mimetype": "text/x-python",
   "name": "python",
   "nbconvert_exporter": "python",
   "pygments_lexer": "ipython3",
   "version": "3.7.6"
  }
 },
 "nbformat": 4,
 "nbformat_minor": 4
}
